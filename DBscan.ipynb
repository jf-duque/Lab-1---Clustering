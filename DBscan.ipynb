{
 "cells": [
  {
   "cell_type": "code",
   "execution_count": 1,
   "id": "3e2e1c16-19c8-4720-9e5c-784fff731db7",
   "metadata": {},
   "outputs": [
    {
     "name": "stderr",
     "output_type": "stream",
     "text": [
      "C:\\Users\\jefed\\AppData\\Local\\Temp\\ipykernel_9172\\2604263421.py:10: DeprecationWarning: `import pandas_profiling` is going to be deprecated by April 1st. Please use `import ydata_profiling` instead.\n",
      "  import pandas_profiling\n"
     ]
    }
   ],
   "source": [
    "import pandas as pd\n",
    "import numpy as np \n",
    "import matplotlib.pyplot as plt\n",
    "import seaborn as sns; sns.set()\n",
    "from sklearn.preprocessing import StandardScaler\n",
    "from sklearn.metrics import silhouette_samples, silhouette_score\n",
    "from sklearn.preprocessing import MinMaxScaler\n",
    "from matplotlib import cm\n",
    "from mpl_toolkits.mplot3d import Axes3D \n",
    "import pandas_profiling\n",
    "from sklearn import preprocessing\n",
    "from sklearn.cluster import DBSCAN\n",
    "from sklearn.datasets import make_blobs\n",
    "from sklearn.neighbors import NearestNeighbors"
   ]
  },
  {
   "cell_type": "code",
   "execution_count": 2,
   "id": "7cbcda1f-cd73-4797-921d-03b7a3238133",
   "metadata": {},
   "outputs": [
    {
     "data": {
      "text/html": [
       "<div>\n",
       "<style scoped>\n",
       "    .dataframe tbody tr th:only-of-type {\n",
       "        vertical-align: middle;\n",
       "    }\n",
       "\n",
       "    .dataframe tbody tr th {\n",
       "        vertical-align: top;\n",
       "    }\n",
       "\n",
       "    .dataframe thead th {\n",
       "        text-align: right;\n",
       "    }\n",
       "</style>\n",
       "<table border=\"1\" class=\"dataframe\">\n",
       "  <thead>\n",
       "    <tr style=\"text-align: right;\">\n",
       "      <th></th>\n",
       "      <th>Time</th>\n",
       "      <th>Number_of_Casualties</th>\n",
       "      <th>Day_of_Week</th>\n",
       "      <th>Road_Type</th>\n",
       "      <th>Speed_limit</th>\n",
       "      <th>Light_Conditions</th>\n",
       "      <th>Weather_Conditions</th>\n",
       "      <th>Road_Surface_Conditions</th>\n",
       "      <th>Urban_or_Rural_Area</th>\n",
       "      <th>Vehicle_Type</th>\n",
       "      <th>Did_Police_Officer_Attend_Scene_of_Accident</th>\n",
       "      <th>Junction_Detail</th>\n",
       "      <th>Number_of_Vehicles</th>\n",
       "      <th>Accident_Severity</th>\n",
       "      <th>Unnamed: 14</th>\n",
       "    </tr>\n",
       "  </thead>\n",
       "  <tbody>\n",
       "    <tr>\n",
       "      <th>0</th>\n",
       "      <td>Mañana</td>\n",
       "      <td>1</td>\n",
       "      <td>Día laboral</td>\n",
       "      <td>6</td>\n",
       "      <td>30.0</td>\n",
       "      <td>1</td>\n",
       "      <td>1</td>\n",
       "      <td>1</td>\n",
       "      <td>1</td>\n",
       "      <td>bike</td>\n",
       "      <td>1</td>\n",
       "      <td>3</td>\n",
       "      <td>1</td>\n",
       "      <td>3</td>\n",
       "      <td>NaN</td>\n",
       "    </tr>\n",
       "    <tr>\n",
       "      <th>1</th>\n",
       "      <td>Mañana</td>\n",
       "      <td>1</td>\n",
       "      <td>Día laboral</td>\n",
       "      <td>6</td>\n",
       "      <td>30.0</td>\n",
       "      <td>1</td>\n",
       "      <td>1</td>\n",
       "      <td>1</td>\n",
       "      <td>1</td>\n",
       "      <td>bike</td>\n",
       "      <td>1</td>\n",
       "      <td>0</td>\n",
       "      <td>1</td>\n",
       "      <td>3</td>\n",
       "      <td>NaN</td>\n",
       "    </tr>\n",
       "    <tr>\n",
       "      <th>2</th>\n",
       "      <td>Tarde</td>\n",
       "      <td>1</td>\n",
       "      <td>Fin de semana</td>\n",
       "      <td>6</td>\n",
       "      <td>30.0</td>\n",
       "      <td>1</td>\n",
       "      <td>1</td>\n",
       "      <td>1</td>\n",
       "      <td>1</td>\n",
       "      <td>bike</td>\n",
       "      <td>1</td>\n",
       "      <td>3</td>\n",
       "      <td>1</td>\n",
       "      <td>3</td>\n",
       "      <td>NaN</td>\n",
       "    </tr>\n",
       "    <tr>\n",
       "      <th>3</th>\n",
       "      <td>Tarde</td>\n",
       "      <td>2</td>\n",
       "      <td>Día laboral</td>\n",
       "      <td>6</td>\n",
       "      <td>30.0</td>\n",
       "      <td>1</td>\n",
       "      <td>1</td>\n",
       "      <td>1</td>\n",
       "      <td>1</td>\n",
       "      <td>bike</td>\n",
       "      <td>1</td>\n",
       "      <td>6</td>\n",
       "      <td>1</td>\n",
       "      <td>2</td>\n",
       "      <td>NaN</td>\n",
       "    </tr>\n",
       "    <tr>\n",
       "      <th>4</th>\n",
       "      <td>Mañana</td>\n",
       "      <td>2</td>\n",
       "      <td>Día laboral</td>\n",
       "      <td>6</td>\n",
       "      <td>30.0</td>\n",
       "      <td>1</td>\n",
       "      <td>1</td>\n",
       "      <td>1</td>\n",
       "      <td>1</td>\n",
       "      <td>bike</td>\n",
       "      <td>1</td>\n",
       "      <td>6</td>\n",
       "      <td>1</td>\n",
       "      <td>3</td>\n",
       "      <td>NaN</td>\n",
       "    </tr>\n",
       "  </tbody>\n",
       "</table>\n",
       "</div>"
      ],
      "text/plain": [
       "     Time  Number_of_Casualties    Day_of_Week  Road_Type  Speed_limit  \\\n",
       "0  Mañana                     1    Día laboral          6         30.0   \n",
       "1  Mañana                     1    Día laboral          6         30.0   \n",
       "2   Tarde                     1  Fin de semana          6         30.0   \n",
       "3   Tarde                     2    Día laboral          6         30.0   \n",
       "4  Mañana                     2    Día laboral          6         30.0   \n",
       "\n",
       "   Light_Conditions  Weather_Conditions  Road_Surface_Conditions  \\\n",
       "0                 1                   1                        1   \n",
       "1                 1                   1                        1   \n",
       "2                 1                   1                        1   \n",
       "3                 1                   1                        1   \n",
       "4                 1                   1                        1   \n",
       "\n",
       "   Urban_or_Rural_Area Vehicle_Type  \\\n",
       "0                    1         bike   \n",
       "1                    1         bike   \n",
       "2                    1         bike   \n",
       "3                    1         bike   \n",
       "4                    1         bike   \n",
       "\n",
       "   Did_Police_Officer_Attend_Scene_of_Accident  Junction_Detail  \\\n",
       "0                                            1                3   \n",
       "1                                            1                0   \n",
       "2                                            1                3   \n",
       "3                                            1                6   \n",
       "4                                            1                6   \n",
       "\n",
       "   Number_of_Vehicles  Accident_Severity  Unnamed: 14  \n",
       "0                   1                  3          NaN  \n",
       "1                   1                  3          NaN  \n",
       "2                   1                  3          NaN  \n",
       "3                   1                  2          NaN  \n",
       "4                   1                  3          NaN  "
      ]
     },
     "execution_count": 2,
     "metadata": {},
     "output_type": "execute_result"
    }
   ],
   "source": [
    "data = pd.read_csv('./datos/Datos_BiciAlpes.csv',sep=';', encoding = \"ISO-8859-1\")\n",
    "data.head()"
   ]
  },
  {
   "cell_type": "code",
   "execution_count": 3,
   "id": "2d746b02-aed5-4ed7-9808-6cba598db7a2",
   "metadata": {},
   "outputs": [],
   "source": [
    "mms =  MinMaxScaler()\n",
    "\n",
    "\n",
    "data_prep_norm = mms.fit_transform(data[['Road_Surface_Conditions', 'Accident_Severity']].copy())\n",
    "saved_cols = data[['Road_Surface_Conditions', 'Accident_Severity']].columns\n",
    "\n",
    "data_prep_norm = pd.DataFrame(data_prep_norm, columns =saved_cols)"
   ]
  },
  {
   "cell_type": "code",
   "execution_count": 4,
   "id": "9889cdac-9741-4c37-9cd4-d1a528573316",
   "metadata": {},
   "outputs": [
    {
     "data": {
      "text/plain": [
       "Time                                              0\n",
       "Number_of_Casualties                              0\n",
       "Day_of_Week                                      19\n",
       "Road_Type                                         0\n",
       "Speed_limit                                       0\n",
       "Light_Conditions                                  0\n",
       "Weather_Conditions                                0\n",
       "Road_Surface_Conditions                           0\n",
       "Urban_or_Rural_Area                               0\n",
       "Vehicle_Type                                      0\n",
       "Did_Police_Officer_Attend_Scene_of_Accident       0\n",
       "Junction_Detail                                   0\n",
       "Number_of_Vehicles                                0\n",
       "Accident_Severity                                 0\n",
       "Unnamed: 14                                    5338\n",
       "dtype: int64"
      ]
     },
     "execution_count": 4,
     "metadata": {},
     "output_type": "execute_result"
    }
   ],
   "source": [
    "data.isnull().sum()"
   ]
  },
  {
   "cell_type": "code",
   "execution_count": 5,
   "id": "355e0f1f-9c48-487b-9dda-8d1084048fd2",
   "metadata": {},
   "outputs": [
    {
     "data": {
      "text/plain": [
       "Time                                            object\n",
       "Number_of_Casualties                             int64\n",
       "Day_of_Week                                     object\n",
       "Road_Type                                        int64\n",
       "Speed_limit                                    float64\n",
       "Light_Conditions                                 int64\n",
       "Weather_Conditions                               int64\n",
       "Road_Surface_Conditions                          int64\n",
       "Urban_or_Rural_Area                              int64\n",
       "Vehicle_Type                                    object\n",
       "Did_Police_Officer_Attend_Scene_of_Accident      int64\n",
       "Junction_Detail                                  int64\n",
       "Number_of_Vehicles                               int64\n",
       "Accident_Severity                                int64\n",
       "Unnamed: 14                                    float64\n",
       "dtype: object"
      ]
     },
     "execution_count": 5,
     "metadata": {},
     "output_type": "execute_result"
    }
   ],
   "source": [
    "data.dtypes"
   ]
  },
  {
   "cell_type": "code",
   "execution_count": 6,
   "id": "cf3b3baf-b6e8-4b95-9c55-35e4e2802e52",
   "metadata": {},
   "outputs": [
    {
     "data": {
      "text/html": [
       "<div>\n",
       "<style scoped>\n",
       "    .dataframe tbody tr th:only-of-type {\n",
       "        vertical-align: middle;\n",
       "    }\n",
       "\n",
       "    .dataframe tbody tr th {\n",
       "        vertical-align: top;\n",
       "    }\n",
       "\n",
       "    .dataframe thead th {\n",
       "        text-align: right;\n",
       "    }\n",
       "</style>\n",
       "<table border=\"1\" class=\"dataframe\">\n",
       "  <thead>\n",
       "    <tr style=\"text-align: right;\">\n",
       "      <th></th>\n",
       "      <th>Accident_Severity</th>\n",
       "      <th>Road_Surface_Conditions_-1</th>\n",
       "      <th>Road_Surface_Conditions_1</th>\n",
       "      <th>Road_Surface_Conditions_2</th>\n",
       "      <th>Road_Surface_Conditions_3</th>\n",
       "      <th>Road_Surface_Conditions_4</th>\n",
       "      <th>Road_Surface_Conditions_5</th>\n",
       "    </tr>\n",
       "  </thead>\n",
       "  <tbody>\n",
       "    <tr>\n",
       "      <th>204</th>\n",
       "      <td>3</td>\n",
       "      <td>0</td>\n",
       "      <td>1</td>\n",
       "      <td>0</td>\n",
       "      <td>0</td>\n",
       "      <td>0</td>\n",
       "      <td>0</td>\n",
       "    </tr>\n",
       "    <tr>\n",
       "      <th>3452</th>\n",
       "      <td>2</td>\n",
       "      <td>0</td>\n",
       "      <td>0</td>\n",
       "      <td>1</td>\n",
       "      <td>0</td>\n",
       "      <td>0</td>\n",
       "      <td>0</td>\n",
       "    </tr>\n",
       "    <tr>\n",
       "      <th>726</th>\n",
       "      <td>2</td>\n",
       "      <td>0</td>\n",
       "      <td>1</td>\n",
       "      <td>0</td>\n",
       "      <td>0</td>\n",
       "      <td>0</td>\n",
       "      <td>0</td>\n",
       "    </tr>\n",
       "    <tr>\n",
       "      <th>2038</th>\n",
       "      <td>2</td>\n",
       "      <td>0</td>\n",
       "      <td>1</td>\n",
       "      <td>0</td>\n",
       "      <td>0</td>\n",
       "      <td>0</td>\n",
       "      <td>0</td>\n",
       "    </tr>\n",
       "    <tr>\n",
       "      <th>4306</th>\n",
       "      <td>3</td>\n",
       "      <td>0</td>\n",
       "      <td>1</td>\n",
       "      <td>0</td>\n",
       "      <td>0</td>\n",
       "      <td>0</td>\n",
       "      <td>0</td>\n",
       "    </tr>\n",
       "  </tbody>\n",
       "</table>\n",
       "</div>"
      ],
      "text/plain": [
       "      Accident_Severity  Road_Surface_Conditions_-1  \\\n",
       "204                   3                           0   \n",
       "3452                  2                           0   \n",
       "726                   2                           0   \n",
       "2038                  2                           0   \n",
       "4306                  3                           0   \n",
       "\n",
       "      Road_Surface_Conditions_1  Road_Surface_Conditions_2  \\\n",
       "204                           1                          0   \n",
       "3452                          0                          1   \n",
       "726                           1                          0   \n",
       "2038                          1                          0   \n",
       "4306                          1                          0   \n",
       "\n",
       "      Road_Surface_Conditions_3  Road_Surface_Conditions_4  \\\n",
       "204                           0                          0   \n",
       "3452                          0                          0   \n",
       "726                           0                          0   \n",
       "2038                          0                          0   \n",
       "4306                          0                          0   \n",
       "\n",
       "      Road_Surface_Conditions_5  \n",
       "204                           0  \n",
       "3452                          0  \n",
       "726                           0  \n",
       "2038                          0  \n",
       "4306                          0  "
      ]
     },
     "execution_count": 6,
     "metadata": {},
     "output_type": "execute_result"
    }
   ],
   "source": [
    "name_cols_number = ['Road_Surface_Conditions', 'Accident_Severity']\n",
    "dt_biciAlpes_trans = data[name_cols_number].copy()\n",
    "dt_biciAlpes_trans = pd.get_dummies(dt_biciAlpes_trans, columns = [\"Road_Surface_Conditions\"])\n",
    "dt_biciAlpes_trans.sample(5)"
   ]
  },
  {
   "cell_type": "code",
   "execution_count": 7,
   "id": "7c1c0e7a-2d95-4531-8f22-aa1603274050",
   "metadata": {},
   "outputs": [],
   "source": [
    "#Arreglo para la segunda iteracion\n",
    "dt_biciAlpes_trans2 = dt_biciAlpes_trans.copy()"
   ]
  },
  {
   "cell_type": "code",
   "execution_count": 8,
   "id": "0225bb01-8bbf-4782-a6c0-383717f5fa3d",
   "metadata": {},
   "outputs": [
    {
     "data": {
      "text/plain": [
       "array([[1., 1., 0., ..., 0., 0., 0.],\n",
       "       [1., 1., 0., ..., 0., 0., 0.],\n",
       "       [1., 1., 0., ..., 0., 0., 0.],\n",
       "       ...,\n",
       "       [0., 0., 0., ..., 0., 0., 0.],\n",
       "       [1., 1., 0., ..., 0., 0., 0.],\n",
       "       [0., 0., 0., ..., 0., 0., 0.]])"
      ]
     },
     "execution_count": 8,
     "metadata": {},
     "output_type": "execute_result"
    }
   ],
   "source": [
    "#Calcular epsilon adecuado\n",
    "neigh = NearestNeighbors(n_neighbors=2)\n",
    "neigh.fit(dt_biciAlpes_trans)\n",
    "\n",
    "A = neigh.kneighbors_graph(dt_biciAlpes_trans)\n",
    "A.toarray()"
   ]
  },
  {
   "cell_type": "code",
   "execution_count": 9,
   "id": "3efd0b98-a5c2-4e7f-b05e-43c9360a5e3e",
   "metadata": {},
   "outputs": [
    {
     "data": {
      "text/plain": [
       "DBSCAN(eps=1, min_samples=500)"
      ]
     },
     "execution_count": 9,
     "metadata": {},
     "output_type": "execute_result"
    }
   ],
   "source": [
    "#dt_biciAlpes_trans = preprocessing.Normalizer().fit_transform(dt_biciAlpes_trans)\n",
    "clustering = DBSCAN(eps=1, min_samples=500).fit(dt_biciAlpes_trans)\n",
    "clustering.labels_\n",
    "\n",
    "clustering"
   ]
  },
  {
   "cell_type": "code",
   "execution_count": 10,
   "id": "f9ebd695-34ee-46f7-b13a-4a348ac14c09",
   "metadata": {},
   "outputs": [
    {
     "data": {
      "image/png": "[encoded data removed]",
      "text/plain": [
       "<Figure size 1200x800 with 1 Axes>"
      ]
     },
     "metadata": {},
     "output_type": "display_data"
    }
   ],
   "source": [
    "# Revisar la cantidad de registros en los clústeres resultado\n",
    "labels = clustering.labels_\n",
    "dt_biciAlpes_trans['Cluster'] = labels\n",
    "\n",
    "cluster_distrib = dt_biciAlpes_trans['Cluster'].value_counts()\n",
    "\n",
    "fig=plt.figure(figsize=(12,8))\n",
    "sns.barplot(x=cluster_distrib.index, y=cluster_distrib.values, color='b');"
   ]
  },
  {
   "cell_type": "code",
   "execution_count": 11,
   "id": "9b2d20c6-8b99-47a8-902d-5b616e20fa4b",
   "metadata": {},
   "outputs": [
    {
     "data": {
      "text/html": [
       "<div>\n",
       "<style scoped>\n",
       "    .dataframe tbody tr th:only-of-type {\n",
       "        vertical-align: middle;\n",
       "    }\n",
       "\n",
       "    .dataframe tbody tr th {\n",
       "        vertical-align: top;\n",
       "    }\n",
       "\n",
       "    .dataframe thead th {\n",
       "        text-align: right;\n",
       "    }\n",
       "</style>\n",
       "<table border=\"1\" class=\"dataframe\">\n",
       "  <thead>\n",
       "    <tr style=\"text-align: right;\">\n",
       "      <th></th>\n",
       "      <th>Accident_Severity</th>\n",
       "      <th>Road_Surface_Conditions_-1</th>\n",
       "      <th>Road_Surface_Conditions_1</th>\n",
       "      <th>Road_Surface_Conditions_2</th>\n",
       "      <th>Road_Surface_Conditions_3</th>\n",
       "      <th>Road_Surface_Conditions_4</th>\n",
       "      <th>Road_Surface_Conditions_5</th>\n",
       "    </tr>\n",
       "    <tr>\n",
       "      <th>Cluster</th>\n",
       "      <th></th>\n",
       "      <th></th>\n",
       "      <th></th>\n",
       "      <th></th>\n",
       "      <th></th>\n",
       "      <th></th>\n",
       "      <th></th>\n",
       "    </tr>\n",
       "  </thead>\n",
       "  <tbody>\n",
       "    <tr>\n",
       "      <th>-1</th>\n",
       "      <td>177</td>\n",
       "      <td>177</td>\n",
       "      <td>177</td>\n",
       "      <td>177</td>\n",
       "      <td>177</td>\n",
       "      <td>177</td>\n",
       "      <td>177</td>\n",
       "    </tr>\n",
       "    <tr>\n",
       "      <th>0</th>\n",
       "      <td>4260</td>\n",
       "      <td>4260</td>\n",
       "      <td>4260</td>\n",
       "      <td>4260</td>\n",
       "      <td>4260</td>\n",
       "      <td>4260</td>\n",
       "      <td>4260</td>\n",
       "    </tr>\n",
       "    <tr>\n",
       "      <th>1</th>\n",
       "      <td>901</td>\n",
       "      <td>901</td>\n",
       "      <td>901</td>\n",
       "      <td>901</td>\n",
       "      <td>901</td>\n",
       "      <td>901</td>\n",
       "      <td>901</td>\n",
       "    </tr>\n",
       "  </tbody>\n",
       "</table>\n",
       "</div>"
      ],
      "text/plain": [
       "         Accident_Severity  Road_Surface_Conditions_-1  \\\n",
       "Cluster                                                  \n",
       "-1                     177                         177   \n",
       " 0                    4260                        4260   \n",
       " 1                     901                         901   \n",
       "\n",
       "         Road_Surface_Conditions_1  Road_Surface_Conditions_2  \\\n",
       "Cluster                                                         \n",
       "-1                             177                        177   \n",
       " 0                            4260                       4260   \n",
       " 1                             901                        901   \n",
       "\n",
       "         Road_Surface_Conditions_3  Road_Surface_Conditions_4  \\\n",
       "Cluster                                                         \n",
       "-1                             177                        177   \n",
       " 0                            4260                       4260   \n",
       " 1                             901                        901   \n",
       "\n",
       "         Road_Surface_Conditions_5  \n",
       "Cluster                             \n",
       "-1                             177  \n",
       " 0                            4260  \n",
       " 1                             901  "
      ]
     },
     "execution_count": 11,
     "metadata": {},
     "output_type": "execute_result"
    }
   ],
   "source": [
    "dt_biciAlpes_trans.groupby('Cluster').count()"
   ]
  },
  {
   "cell_type": "code",
   "execution_count": 12,
   "id": "af270029-b9ef-401f-b882-50911d38c28a",
   "metadata": {},
   "outputs": [
    {
     "data": {
      "image/png": "[encoded data removed]",
      "text/plain": [
       "<Figure size 800x600 with 1 Axes>"
      ]
     },
     "metadata": {},
     "output_type": "display_data"
    }
   ],
   "source": [
    "dt_cluster = dt_biciAlpes_trans[dt_biciAlpes_trans['Cluster'] == 0]\n",
    "\n",
    "plt.figure(figsize=(8,6))\n",
    "sns.countplot(x='Accident_Severity', data = dt_cluster)\n",
    "plt.title('Frecuencia de RSC para el cluster 1')\n",
    "plt.xlabel('Accident_Severity')\n",
    "plt.ylabel('Frecuencia')\n",
    "plt.show()\n"
   ]
  },
  {
   "cell_type": "code",
   "execution_count": 13,
   "id": "e755f1db-5a6c-49c9-b36d-e6351739addb",
   "metadata": {},
   "outputs": [],
   "source": [
    "# centers = [[1, 1], [-1, -1], [1, -1]]\n",
    "# dt_biciAlpes_trans, labels_true = make_blobs(\n",
    "#     n_samples=5338, centers=centers, cluster_std=0.4, random_state=0\n",
    "# )\n",
    "\n",
    "dt_biciAlpes_trans = StandardScaler().fit_transform(dt_biciAlpes_trans)\n",
    "\n",
    "# plt.scatter(dt_biciAlpes_trans[:, 0], dt_biciAlpes_trans[:, 1])\n",
    "# plt.show()\n"
   ]
  },
  {
   "cell_type": "code",
   "execution_count": 14,
   "id": "930f0941-1f53-4349-8cf0-a17e21b71c1d",
   "metadata": {},
   "outputs": [
    {
     "name": "stdout",
     "output_type": "stream",
     "text": [
      "Estimated number of clusters: 2\n",
      "Estimated number of noise points: 177\n"
     ]
    }
   ],
   "source": [
    "n_clusters_ = len(set(labels)) - (1 if -1 in labels else 0)\n",
    "n_noise_ = list(labels).count(-1)\n",
    "\n",
    "print(\"Estimated number of clusters: %d\" % n_clusters_)\n",
    "print(\"Estimated number of noise points: %d\" % n_noise_)"
   ]
  },
  {
   "cell_type": "code",
   "execution_count": 15,
   "id": "a79b0eb8-1347-42d5-bd7d-c7b8f4ab08d8",
   "metadata": {},
   "outputs": [
    {
     "data": {
      "image/png": "[encoded data removed]",
      "text/plain": [
       "<Figure size 640x480 with 1 Axes>"
      ]
     },
     "metadata": {},
     "output_type": "display_data"
    }
   ],
   "source": [
    "unique_labels = set(labels)\n",
    "core_samples_mask = np.zeros_like(labels, dtype=bool)\n",
    "core_samples_mask[clustering.core_sample_indices_] = True\n",
    "\n",
    "colors = [plt.cm.Spectral(each) for each in np.linspace(0, 1, len(unique_labels))]\n",
    "for k, col in zip(unique_labels, colors):\n",
    "    if k == -1:\n",
    "        # Black used for noise.\n",
    "        col = [0, 0, 0, 1]\n",
    "\n",
    "    class_member_mask = labels == k\n",
    "\n",
    "    xy = dt_biciAlpes_trans[class_member_mask & core_samples_mask]\n",
    "    plt.plot(\n",
    "        xy[:, 0],\n",
    "        xy[:, 1],\n",
    "        \"o\",\n",
    "        markerfacecolor=tuple(col),\n",
    "        markeredgecolor=\"k\",\n",
    "        markersize=14,\n",
    "    )\n",
    "\n",
    "    xy = dt_biciAlpes_trans[class_member_mask & ~core_samples_mask]\n",
    "    plt.plot(\n",
    "        xy[:, 0],\n",
    "        xy[:, 1],\n",
    "        \"o\",\n",
    "        markerfacecolor=tuple(col),\n",
    "        markeredgecolor=\"k\",\n",
    "        markersize=6,\n",
    "    )\n",
    "\n",
    "plt.title(f\"Estimated number of clusters: {n_clusters_}\")\n",
    "plt.show()"
   ]
  },
  {
   "cell_type": "code",
   "execution_count": 16,
   "id": "b263a03d-e1d3-44ad-8270-97043a927059",
   "metadata": {},
   "outputs": [
    {
     "data": {
      "text/plain": [
       "DBSCAN(min_samples=25)"
      ]
     },
     "execution_count": 16,
     "metadata": {},
     "output_type": "execute_result"
    }
   ],
   "source": [
    "#Debido a la alta cantidad de puntos de ruido, se hace una segunda iteración con una menor cantidad de puntos minimos para el cluster\n",
    "#Iteracion 2\n",
    "\n",
    "clustering2 = DBSCAN(eps=0.5, min_samples=25).fit(dt_biciAlpes_trans2)\n",
    "clustering2.labels_\n",
    "\n",
    "clustering2"
   ]
  },
  {
   "cell_type": "code",
   "execution_count": 17,
   "id": "0d674865-aba8-4acb-9588-902fa0f6e783",
   "metadata": {},
   "outputs": [
    {
     "data": {
      "image/png": "[encoded data removed]",
      "text/plain": [
       "<Figure size 1200x800 with 1 Axes>"
      ]
     },
     "metadata": {},
     "output_type": "display_data"
    }
   ],
   "source": [
    "# Revisar la cantidad de registros en los clústeres resultado\n",
    "labels2 = clustering2.labels_\n",
    "dt_biciAlpes_trans2['Cluster'] = labels2\n",
    "\n",
    "cluster_distrib = dt_biciAlpes_trans2['Cluster'].value_counts()\n",
    "\n",
    "fig=plt.figure(figsize=(12,8))\n",
    "sns.barplot(x=cluster_distrib.index, y=cluster_distrib.values, color='b');"
   ]
  },
  {
   "cell_type": "code",
   "execution_count": 18,
   "id": "ef7e8db6-514c-41c2-af09-89cd3b176d6c",
   "metadata": {},
   "outputs": [
    {
     "data": {
      "text/html": [
       "<div>\n",
       "<style scoped>\n",
       "    .dataframe tbody tr th:only-of-type {\n",
       "        vertical-align: middle;\n",
       "    }\n",
       "\n",
       "    .dataframe tbody tr th {\n",
       "        vertical-align: top;\n",
       "    }\n",
       "\n",
       "    .dataframe thead th {\n",
       "        text-align: right;\n",
       "    }\n",
       "</style>\n",
       "<table border=\"1\" class=\"dataframe\">\n",
       "  <thead>\n",
       "    <tr style=\"text-align: right;\">\n",
       "      <th></th>\n",
       "      <th>Accident_Severity</th>\n",
       "      <th>Road_Surface_Conditions_-1</th>\n",
       "      <th>Road_Surface_Conditions_1</th>\n",
       "      <th>Road_Surface_Conditions_2</th>\n",
       "      <th>Road_Surface_Conditions_3</th>\n",
       "      <th>Road_Surface_Conditions_4</th>\n",
       "      <th>Road_Surface_Conditions_5</th>\n",
       "    </tr>\n",
       "    <tr>\n",
       "      <th>Cluster</th>\n",
       "      <th></th>\n",
       "      <th></th>\n",
       "      <th></th>\n",
       "      <th></th>\n",
       "      <th></th>\n",
       "      <th></th>\n",
       "      <th></th>\n",
       "    </tr>\n",
       "  </thead>\n",
       "  <tbody>\n",
       "    <tr>\n",
       "      <th>-1</th>\n",
       "      <td>49</td>\n",
       "      <td>49</td>\n",
       "      <td>49</td>\n",
       "      <td>49</td>\n",
       "      <td>49</td>\n",
       "      <td>49</td>\n",
       "      <td>49</td>\n",
       "    </tr>\n",
       "    <tr>\n",
       "      <th>0</th>\n",
       "      <td>2782</td>\n",
       "      <td>2782</td>\n",
       "      <td>2782</td>\n",
       "      <td>2782</td>\n",
       "      <td>2782</td>\n",
       "      <td>2782</td>\n",
       "      <td>2782</td>\n",
       "    </tr>\n",
       "    <tr>\n",
       "      <th>1</th>\n",
       "      <td>1402</td>\n",
       "      <td>1402</td>\n",
       "      <td>1402</td>\n",
       "      <td>1402</td>\n",
       "      <td>1402</td>\n",
       "      <td>1402</td>\n",
       "      <td>1402</td>\n",
       "    </tr>\n",
       "    <tr>\n",
       "      <th>2</th>\n",
       "      <td>559</td>\n",
       "      <td>559</td>\n",
       "      <td>559</td>\n",
       "      <td>559</td>\n",
       "      <td>559</td>\n",
       "      <td>559</td>\n",
       "      <td>559</td>\n",
       "    </tr>\n",
       "    <tr>\n",
       "      <th>3</th>\n",
       "      <td>323</td>\n",
       "      <td>323</td>\n",
       "      <td>323</td>\n",
       "      <td>323</td>\n",
       "      <td>323</td>\n",
       "      <td>323</td>\n",
       "      <td>323</td>\n",
       "    </tr>\n",
       "    <tr>\n",
       "      <th>4</th>\n",
       "      <td>76</td>\n",
       "      <td>76</td>\n",
       "      <td>76</td>\n",
       "      <td>76</td>\n",
       "      <td>76</td>\n",
       "      <td>76</td>\n",
       "      <td>76</td>\n",
       "    </tr>\n",
       "    <tr>\n",
       "      <th>5</th>\n",
       "      <td>60</td>\n",
       "      <td>60</td>\n",
       "      <td>60</td>\n",
       "      <td>60</td>\n",
       "      <td>60</td>\n",
       "      <td>60</td>\n",
       "      <td>60</td>\n",
       "    </tr>\n",
       "    <tr>\n",
       "      <th>6</th>\n",
       "      <td>54</td>\n",
       "      <td>54</td>\n",
       "      <td>54</td>\n",
       "      <td>54</td>\n",
       "      <td>54</td>\n",
       "      <td>54</td>\n",
       "      <td>54</td>\n",
       "    </tr>\n",
       "    <tr>\n",
       "      <th>7</th>\n",
       "      <td>33</td>\n",
       "      <td>33</td>\n",
       "      <td>33</td>\n",
       "      <td>33</td>\n",
       "      <td>33</td>\n",
       "      <td>33</td>\n",
       "      <td>33</td>\n",
       "    </tr>\n",
       "  </tbody>\n",
       "</table>\n",
       "</div>"
      ],
      "text/plain": [
       "         Accident_Severity  Road_Surface_Conditions_-1  \\\n",
       "Cluster                                                  \n",
       "-1                      49                          49   \n",
       " 0                    2782                        2782   \n",
       " 1                    1402                        1402   \n",
       " 2                     559                         559   \n",
       " 3                     323                         323   \n",
       " 4                      76                          76   \n",
       " 5                      60                          60   \n",
       " 6                      54                          54   \n",
       " 7                      33                          33   \n",
       "\n",
       "         Road_Surface_Conditions_1  Road_Surface_Conditions_2  \\\n",
       "Cluster                                                         \n",
       "-1                              49                         49   \n",
       " 0                            2782                       2782   \n",
       " 1                            1402                       1402   \n",
       " 2                             559                        559   \n",
       " 3                             323                        323   \n",
       " 4                              76                         76   \n",
       " 5                              60                         60   \n",
       " 6                              54                         54   \n",
       " 7                              33                         33   \n",
       "\n",
       "         Road_Surface_Conditions_3  Road_Surface_Conditions_4  \\\n",
       "Cluster                                                         \n",
       "-1                              49                         49   \n",
       " 0                            2782                       2782   \n",
       " 1                            1402                       1402   \n",
       " 2                             559                        559   \n",
       " 3                             323                        323   \n",
       " 4                              76                         76   \n",
       " 5                              60                         60   \n",
       " 6                              54                         54   \n",
       " 7                              33                         33   \n",
       "\n",
       "         Road_Surface_Conditions_5  \n",
       "Cluster                             \n",
       "-1                              49  \n",
       " 0                            2782  \n",
       " 1                            1402  \n",
       " 2                             559  \n",
       " 3                             323  \n",
       " 4                              76  \n",
       " 5                              60  \n",
       " 6                              54  \n",
       " 7                              33  "
      ]
     },
     "execution_count": 18,
     "metadata": {},
     "output_type": "execute_result"
    }
   ],
   "source": [
    "dt_biciAlpes_trans2.groupby('Cluster').count()"
   ]
  },
  {
   "cell_type": "code",
   "execution_count": 19,
   "id": "6048717d-3a4d-4449-b779-19a94d8b9b50",
   "metadata": {},
   "outputs": [
    {
     "name": "stdout",
     "output_type": "stream",
     "text": [
      "Estimated number of clusters: 8\n",
      "Estimated number of noise points: 49\n"
     ]
    }
   ],
   "source": [
    "n_clusters_ = len(set(labels2)) - (1 if -1 in labels else 0)\n",
    "n_noise_ = list(labels2).count(-1)\n",
    "\n",
    "print(\"Estimated number of clusters: %d\" % n_clusters_)\n",
    "print(\"Estimated number of noise points: %d\" % n_noise_)"
   ]
  },
  {
   "cell_type": "code",
   "execution_count": 20,
   "id": "6da292a4-c892-41ed-a9bf-656258f7a00f",
   "metadata": {},
   "outputs": [],
   "source": [
    "# centers = [[1, 1], [-1, -1], [1, -1]]\n",
    "# dt_biciAlpes_trans2, labels_true = make_blobs(\n",
    "#     n_samples=5338, centers=centers, cluster_std=0.4, random_state=0\n",
    "# )\n",
    "\n",
    "dt_biciAlpes_trans2 = StandardScaler().fit_transform(dt_biciAlpes_trans2)\n",
    "\n",
    "# plt.scatter(dt_biciAlpes_trans2[:, 0], dt_biciAlpes_trans2[:, 1])\n",
    "# plt.show()"
   ]
  },
  {
   "cell_type": "code",
   "execution_count": 21,
   "id": "6b7ad108-03b6-4d25-ac56-f6d9e75c5cae",
   "metadata": {},
   "outputs": [
    {
     "data": {
      "image/png": "[encoded data removed]",
      "text/plain": [
       "<Figure size 640x480 with 1 Axes>"
      ]
     },
     "metadata": {},
     "output_type": "display_data"
    }
   ],
   "source": [
    "unique_labels = set(labels2)\n",
    "core_samples_mask = np.zeros_like(labels2, dtype=bool)\n",
    "core_samples_mask[clustering2.core_sample_indices_] = True\n",
    "\n",
    "colors = [plt.cm.Spectral(each) for each in np.linspace(0, 1, len(unique_labels))]\n",
    "for k, col in zip(unique_labels, colors):\n",
    "    if k == -1:\n",
    "        # Black used for noise.\n",
    "        col = [0, 0, 0, 1]\n",
    "\n",
    "    class_member_mask = labels2 == k\n",
    "\n",
    "    xy = dt_biciAlpes_trans2[class_member_mask & core_samples_mask]\n",
    "    plt.plot(\n",
    "        xy[:, 0],\n",
    "        xy[:, 1],\n",
    "        \"o\",\n",
    "        markerfacecolor=tuple(col),\n",
    "        markeredgecolor=\"k\",\n",
    "        markersize=14,\n",
    "    )\n",
    "\n",
    "    xy = dt_biciAlpes_trans2[class_member_mask & ~core_samples_mask]\n",
    "    plt.plot(\n",
    "        xy[:, 0],\n",
    "        xy[:, 1],\n",
    "        \"o\",\n",
    "        markerfacecolor=tuple(col),\n",
    "        markeredgecolor=\"k\",\n",
    "        markersize=6,\n",
    "    )\n",
    "\n",
    "plt.title(f\"Estimated number of clusters: {n_clusters_}\")\n",
    "plt.show()"
   ]
  }
 ],
 "metadata": {
  "kernelspec": {
   "display_name": "Python 3 (ipykernel)",
   "language": "python",
   "name": "python3"
  },
  "language_info": {
   "codemirror_mode": {
    "name": "ipython",
    "version": 3
   },
   "file_extension": ".py",
   "mimetype": "text/x-python",
   "name": "python",
   "nbconvert_exporter": "python",
   "pygments_lexer": "ipython3",
   "version": "3.9.13"
  }
 },
 "nbformat": 4,
 "nbformat_minor": 5
}
